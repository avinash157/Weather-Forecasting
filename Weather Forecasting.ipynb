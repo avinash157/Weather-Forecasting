{
 "cells": [
  {
   "cell_type": "code",
   "execution_count": 29,
   "id": "3184b6ae-0b43-40d5-98e9-7e17145295fb",
   "metadata": {},
   "outputs": [
    {
     "name": "stdin",
     "output_type": "stream",
     "text": [
      "Enter the Name of Any City >>  chennai\n"
     ]
    },
    {
     "name": "stdout",
     "output_type": "stream",
     "text": [
      "{'coord': {'lon': 80.2785, 'lat': 13.0878}, 'weather': [{'id': 804, 'main': 'Clouds', 'description': 'overcast clouds', 'icon': '04d'}], 'base': 'stations', 'main': {'temp': 34.14, 'feels_like': 41.14, 'temp_min': 33.38, 'temp_max': 34.45, 'pressure': 1003, 'humidity': 68, 'sea_level': 1003, 'grnd_level': 1001}, 'visibility': 10000, 'wind': {'speed': 1.79, 'deg': 65, 'gust': 4.02}, 'clouds': {'all': 100}, 'dt': 1723367576, 'sys': {'type': 2, 'id': 2093220, 'country': 'IN', 'sunrise': 1723335967, 'sunset': 1723381331}, 'timezone': 19800, 'id': 1264527, 'name': 'Chennai', 'cod': 200}\n",
      "Location: Chennai\n",
      "Temperature: 34.14°C\n",
      "Humidity: 68\n",
      "Country: IN\n",
      "Weather Description: Overcast clouds\n"
     ]
    }
   ],
   "source": [
    "import requests\n",
    "\n",
    "def get_weather(city):\n",
    "    api_key = 'd41d1f1fdd826aac37201c94165a7e32'  # Replace with your OpenWeatherMap API key\n",
    "    base_url = f\"http://api.openweathermap.org/data/2.5/weather?q={city}&appid={api_key}&units=metric\"\n",
    "    \n",
    "    response = requests.get(base_url)\n",
    "    data = response.json()\n",
    "\n",
    "    print(data)\n",
    "    \n",
    "    if data[\"cod\"] == 200:\n",
    "        location = data['name']\n",
    "        temperature = data['main']['temp']\n",
    "        weather_description = data['weather'][0]['description']\n",
    "        country = data['sys']['country']\n",
    "        humidity = data['main']['humidity']\n",
    "        print(f\"Location: {location}\")\n",
    "        print(f\"Temperature: {temperature}°C\")\n",
    "        print(f\"Humidity: {humidity}\")\n",
    "        print(f\"Country: {country}\")\n",
    "        print(f\"Weather Description: {weather_description.capitalize()}\")\n",
    "    else:\n",
    "        print(\"City not found or API request failed.\")\n",
    "\n",
    "city = input(\"Enter the Name of Any City >> \")\n",
    "get_weather(city)\n"
   ]
  },
  {
   "cell_type": "code",
   "execution_count": null,
   "id": "c41bd42e-db50-4616-a995-b110bfd9e5ef",
   "metadata": {},
   "outputs": [],
   "source": []
  }
 ],
 "metadata": {
  "kernelspec": {
   "display_name": "Python 3 (ipykernel)",
   "language": "python",
   "name": "python3"
  },
  "language_info": {
   "codemirror_mode": {
    "name": "ipython",
    "version": 3
   },
   "file_extension": ".py",
   "mimetype": "text/x-python",
   "name": "python",
   "nbconvert_exporter": "python",
   "pygments_lexer": "ipython3",
   "version": "3.12.4"
  }
 },
 "nbformat": 4,
 "nbformat_minor": 5
}
